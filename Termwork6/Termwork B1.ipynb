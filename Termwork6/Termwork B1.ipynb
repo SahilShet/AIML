{
  "nbformat": 4,
  "nbformat_minor": 0,
  "metadata": {
    "kernelspec": {
      "display_name": "Python 3",
      "language": "python",
      "name": "python3"
    },
    "language_info": {
      "codemirror_mode": {
        "name": "ipython",
        "version": 3
      },
      "file_extension": ".py",
      "mimetype": "text/x-python",
      "name": "python",
      "nbconvert_exporter": "python",
      "pygments_lexer": "ipython3",
      "version": "3.7.4"
    },
    "colab": {
      "name": "TW01 Part B Find S and CEA.ipynb",
      "provenance": []
    }
  },
  "cells": [
    {
      "cell_type": "code",
      "metadata": {
        "id": "KDn4J-VVL-A3"
      },
      "source": [
        "#FindS algorithm implementation\n",
        "import numpy as np\n",
        "import pandas as pd\n",
        "\n",
        "data=pd.read_csv(\"data.csv\")\n",
        "\n"
      ],
      "execution_count": 3,
      "outputs": []
    },
    {
      "cell_type": "code",
      "metadata": {
        "colab": {
          "base_uri": "https://localhost:8080/"
        },
        "id": "61cM1MoDL-BD",
        "outputId": "66df34f0-0f7b-4b0a-d7d2-ec7d077e5e92"
      },
      "source": [
        "concepts=np.array(data)[:,:-1]\n",
        "concepts"
      ],
      "execution_count": 4,
      "outputs": [
        {
          "output_type": "execute_result",
          "data": {
            "text/plain": [
              "array([['sunny', 'warm', 'normal', 'strong', 'warm', 'same'],\n",
              "       ['sunny', 'warm', 'high', 'strong', 'warm', 'same'],\n",
              "       ['rainy', 'cold', 'high', 'strong', 'warm', 'change'],\n",
              "       ['sunny', 'warm', 'high', 'strong', 'cool', 'change']],\n",
              "      dtype=object)"
            ]
          },
          "metadata": {
            "tags": []
          },
          "execution_count": 4
        }
      ]
    },
    {
      "cell_type": "code",
      "metadata": {
        "colab": {
          "base_uri": "https://localhost:8080/"
        },
        "id": "WhNEumecL-BG",
        "outputId": "6c5ee0ca-6adf-4854-c026-3c72354ec856"
      },
      "source": [
        "target=np.array(data)[:,-1]\n",
        "target"
      ],
      "execution_count": 5,
      "outputs": [
        {
          "output_type": "execute_result",
          "data": {
            "text/plain": [
              "array(['yes', 'yes', 'no', 'yes'], dtype=object)"
            ]
          },
          "metadata": {
            "tags": []
          },
          "execution_count": 5
        }
      ]
    },
    {
      "cell_type": "code",
      "metadata": {
        "id": "41cwQDWwL-BI"
      },
      "source": [
        "def train(concepts,target):\n",
        "    for i, value in enumerate(target):\n",
        "        if value=='yes':\n",
        "            specific_hyp=concepts[i].copy()\n",
        "            break\n",
        "    for i,value in enumerate(concepts):\n",
        "        if target[i]=='yes':\n",
        "            for x in range(len(specific_hyp)):\n",
        "                if value[x]!=specific_hyp[x]:\n",
        "                    specific_hyp[x]='?'\n",
        "    print(\"Finally>>>\\t\",specific_hyp)            "
      ],
      "execution_count": 7,
      "outputs": []
    },
    {
      "cell_type": "code",
      "metadata": {
        "scrolled": false,
        "colab": {
          "base_uri": "https://localhost:8080/"
        },
        "id": "MTOoDhnYL-BJ",
        "outputId": "888ef08d-ec2d-4d20-e365-1869c1f77653"
      },
      "source": [
        "train(concepts,target)"
      ],
      "execution_count": 8,
      "outputs": [
        {
          "output_type": "stream",
          "text": [
            "Finally>>>\t ['sunny' 'warm' '?' 'strong' '?' '?']\n"
          ],
          "name": "stdout"
        }
      ]
    },
    {
      "cell_type": "code",
      "metadata": {
        "id": "t0JR8jIhL-BL"
      },
      "source": [
        "#++++++++++++++++++++++++++++++++++++++++++\n",
        "\n",
        "\n",
        "#**************************************"
      ],
      "execution_count": null,
      "outputs": []
    },
    {
      "cell_type": "code",
      "metadata": {
        "id": "cLiqik6DL-BM"
      },
      "source": [
        "#Candidate Elimination Algorithm"
      ],
      "execution_count": null,
      "outputs": []
    },
    {
      "cell_type": "code",
      "metadata": {
        "scrolled": false,
        "colab": {
          "base_uri": "https://localhost:8080/",
          "height": 167
        },
        "id": "vtbl0SKmL-BN",
        "outputId": "b756f425-37b4-4626-bea4-64158b4494f2"
      },
      "source": [
        "\n",
        "\n",
        "#Importing Important Libraries \n",
        "\n",
        "import numpy as np\n",
        "\n",
        "import pandas as pd\n",
        "\n",
        "data = pd.DataFrame(data=pd.read_csv('data.csv'))\n",
        "\n",
        "data"
      ],
      "execution_count": 9,
      "outputs": [
        {
          "output_type": "execute_result",
          "data": {
            "text/html": [
              "<div>\n",
              "<style scoped>\n",
              "    .dataframe tbody tr th:only-of-type {\n",
              "        vertical-align: middle;\n",
              "    }\n",
              "\n",
              "    .dataframe tbody tr th {\n",
              "        vertical-align: top;\n",
              "    }\n",
              "\n",
              "    .dataframe thead th {\n",
              "        text-align: right;\n",
              "    }\n",
              "</style>\n",
              "<table border=\"1\" class=\"dataframe\">\n",
              "  <thead>\n",
              "    <tr style=\"text-align: right;\">\n",
              "      <th></th>\n",
              "      <th>sky</th>\n",
              "      <th>air temp</th>\n",
              "      <th>humidity</th>\n",
              "      <th>wind</th>\n",
              "      <th>water</th>\n",
              "      <th>forecast</th>\n",
              "      <th>enjoy sport</th>\n",
              "    </tr>\n",
              "  </thead>\n",
              "  <tbody>\n",
              "    <tr>\n",
              "      <th>0</th>\n",
              "      <td>sunny</td>\n",
              "      <td>warm</td>\n",
              "      <td>normal</td>\n",
              "      <td>strong</td>\n",
              "      <td>warm</td>\n",
              "      <td>same</td>\n",
              "      <td>yes</td>\n",
              "    </tr>\n",
              "    <tr>\n",
              "      <th>1</th>\n",
              "      <td>sunny</td>\n",
              "      <td>warm</td>\n",
              "      <td>high</td>\n",
              "      <td>strong</td>\n",
              "      <td>warm</td>\n",
              "      <td>same</td>\n",
              "      <td>yes</td>\n",
              "    </tr>\n",
              "    <tr>\n",
              "      <th>2</th>\n",
              "      <td>rainy</td>\n",
              "      <td>cold</td>\n",
              "      <td>high</td>\n",
              "      <td>strong</td>\n",
              "      <td>warm</td>\n",
              "      <td>change</td>\n",
              "      <td>no</td>\n",
              "    </tr>\n",
              "    <tr>\n",
              "      <th>3</th>\n",
              "      <td>sunny</td>\n",
              "      <td>warm</td>\n",
              "      <td>high</td>\n",
              "      <td>strong</td>\n",
              "      <td>cool</td>\n",
              "      <td>change</td>\n",
              "      <td>yes</td>\n",
              "    </tr>\n",
              "  </tbody>\n",
              "</table>\n",
              "</div>"
            ],
            "text/plain": [
              "     sky air temp humidity    wind water forecast enjoy sport\n",
              "0  sunny     warm   normal  strong  warm     same         yes\n",
              "1  sunny     warm     high  strong  warm     same         yes\n",
              "2  rainy     cold     high  strong  warm   change          no\n",
              "3  sunny     warm     high  strong  cool   change         yes"
            ]
          },
          "metadata": {
            "tags": []
          },
          "execution_count": 9
        }
      ]
    },
    {
      "cell_type": "code",
      "metadata": {
        "colab": {
          "base_uri": "https://localhost:8080/"
        },
        "id": "KzwDuiFBL-BP",
        "outputId": "958ed779-edb9-4818-9ef2-531a42f8ce94"
      },
      "source": [
        "concepts = np.array(data.iloc[:,0:-1])\n",
        "\n",
        "target = np.array(data.iloc[:,-1])\n",
        "\n",
        "print(target)\n",
        "\n",
        "print(concepts)"
      ],
      "execution_count": 10,
      "outputs": [
        {
          "output_type": "stream",
          "text": [
            "['yes' 'yes' 'no' 'yes']\n",
            "[['sunny' 'warm' 'normal' 'strong' 'warm' 'same']\n",
            " ['sunny' 'warm' 'high' 'strong' 'warm' 'same']\n",
            " ['rainy' 'cold' 'high' 'strong' 'warm' 'change']\n",
            " ['sunny' 'warm' 'high' 'strong' 'cool' 'change']]\n"
          ],
          "name": "stdout"
        }
      ]
    },
    {
      "cell_type": "code",
      "metadata": {
        "colab": {
          "base_uri": "https://localhost:8080/"
        },
        "id": "xdxyMj_2L-BR",
        "outputId": "fc98984a-7e41-4016-a3e5-9e6be78ff5f9"
      },
      "source": [
        "#Defining Model (Candidate Elimination algorithm concepts)\n",
        "\n",
        "def learn(concepts, target):\n",
        "\n",
        "    specific_h = concepts[0].copy()\n",
        "\n",
        "    print(\"Initialization of specific_h and general_h\")\n",
        "\n",
        "    print(\"specific_h: \",specific_h)\n",
        "\n",
        "    general_h = [[\"?\" for i in range(len(specific_h))] for i in range(len(specific_h))]\n",
        "\n",
        "    print(\"general_h: \",general_h)\n",
        "\n",
        "    print(\"concepts: \",concepts)\n",
        "\n",
        "    for i, h in enumerate(concepts):\n",
        "\n",
        "        if target[i] == \"yes\":\n",
        "\n",
        "            for x in range(len(specific_h)):\n",
        "\n",
        "                #print(\"h[x]\",h[x])\n",
        "\n",
        "                if h[x] != specific_h[x]:\n",
        "\n",
        "                    specific_h[x] = '?'\n",
        "\n",
        "                    general_h[x][x] = '?'\n",
        "\n",
        "        if target[i] == \"no\":\n",
        "\n",
        "            for x in range(len(specific_h)):\n",
        "\n",
        "                if h[x] != specific_h[x]:\n",
        "\n",
        "                    general_h[x][x] = specific_h[x]\n",
        "\n",
        "                else:\n",
        "\n",
        "                    general_h[x][x] = '?'\n",
        "\n",
        "    print(\"\\nSteps of Candidate Elimination Algorithm: \",i+1)\n",
        "    print(\"Concept X{}>>\".format(i+1),h,\"\\t target>>\",target[i])\n",
        "\n",
        "    print(\"Specific_h: \",i+1)\n",
        "\n",
        "    print(specific_h,\"\\n\")\n",
        "\n",
        "    print(\"general_h :\", i+1)\n",
        "\n",
        "    print(general_h)\n",
        "\n",
        "    indices = [i for i, val in enumerate(general_h) if val == ['?', '?', '?', '?', '?', '?']]\n",
        "\n",
        "    print(\"\\nIndices\",indices)\n",
        "\n",
        "    for i in indices:\n",
        "\n",
        "        general_h.remove(['?', '?', '?', '?', '?', '?'])\n",
        "\n",
        "    return specific_h, general_h\n",
        "\n",
        "s_final,g_final = learn(concepts, target)\n",
        "\n",
        "print(\"\\nFinal Specific_h:\", s_final, sep=\"\\n\")\n",
        "\n",
        "print(\"Final General_h:\", g_final, sep=\"\\n\")"
      ],
      "execution_count": 12,
      "outputs": [
        {
          "output_type": "stream",
          "text": [
            "Initialization of specific_h and general_h\n",
            "specific_h:  ['sunny' 'warm' 'normal' 'strong' 'warm' 'same']\n",
            "general_h:  [['?', '?', '?', '?', '?', '?'], ['?', '?', '?', '?', '?', '?'], ['?', '?', '?', '?', '?', '?'], ['?', '?', '?', '?', '?', '?'], ['?', '?', '?', '?', '?', '?'], ['?', '?', '?', '?', '?', '?']]\n",
            "concepts:  [['sunny' 'warm' 'normal' 'strong' 'warm' 'same']\n",
            " ['sunny' 'warm' 'high' 'strong' 'warm' 'same']\n",
            " ['rainy' 'cold' 'high' 'strong' 'warm' 'change']\n",
            " ['sunny' 'warm' 'high' 'strong' 'cool' 'change']]\n",
            "\n",
            "Steps of Candidate Elimination Algorithm:  4\n",
            "Concept X4>> ['sunny' 'warm' 'high' 'strong' 'cool' 'change'] \t target>> yes\n",
            "Specific_h:  4\n",
            "['sunny' 'warm' '?' 'strong' '?' '?'] \n",
            "\n",
            "general_h : 4\n",
            "[['sunny', '?', '?', '?', '?', '?'], ['?', 'warm', '?', '?', '?', '?'], ['?', '?', '?', '?', '?', '?'], ['?', '?', '?', '?', '?', '?'], ['?', '?', '?', '?', '?', '?'], ['?', '?', '?', '?', '?', '?']]\n",
            "\n",
            "Indices [2, 3, 4, 5]\n",
            "\n",
            "Final Specific_h:\n",
            "['sunny' 'warm' '?' 'strong' '?' '?']\n",
            "Final General_h:\n",
            "[['sunny', '?', '?', '?', '?', '?'], ['?', 'warm', '?', '?', '?', '?']]\n"
          ],
          "name": "stdout"
        }
      ]
    },
    {
      "cell_type": "code",
      "metadata": {
        "id": "H9xNkSg5L-BV"
      },
      "source": [
        ""
      ],
      "execution_count": null,
      "outputs": []
    }
  ]
}